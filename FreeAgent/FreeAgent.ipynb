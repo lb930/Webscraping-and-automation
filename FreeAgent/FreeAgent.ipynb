{
 "cells": [
  {
   "cell_type": "markdown",
   "metadata": {},
   "source": [
    "# Automatically fill in timesheets on FreeAgent\n",
    "\n",
    "This script logs timesheets on FreeAgent. When I wrote this I was working on the same project for several months and didn't have to consider bank holidays or annual leave. FreeAgent automatically selects the current week and always uses the project that was used in the previous timesheet so I didn't have to update these two fields."
   ]
  },
  {
   "cell_type": "code",
   "execution_count": 8,
   "metadata": {},
   "outputs": [],
   "source": [
    "from selenium import webdriver\n",
    "from selenium.webdriver.support.ui import WebDriverWait\n",
    "from selenium.webdriver.support import expected_conditions as EC\n",
    "from selenium.webdriver.common.by import By\n",
    "import time"
   ]
  },
  {
   "cell_type": "code",
   "execution_count": 10,
   "metadata": {},
   "outputs": [],
   "source": [
    "driver = webdriver.Chrome(executable_path=r'C:\\Program Files\\chromedriver.exe')\n",
    "wait = WebDriverWait(driver, 5)\n",
    "driver.get(\"https://login.freeagent.com/login\")\n",
    "\n",
    "email = \"your_email\"\n",
    "password = \"your_password\"\n",
    "\n",
    "# Log in to FreeAgent\n",
    "driver.find_element_by_id(\"login_email\").send_keys(email)\n",
    "driver.find_element_by_id(\"login_password\").send_keys(password)\n",
    "driver.find_element_by_name(\"commit\").click()\n",
    "\n",
    "# Click work button\n",
    "time.sleep(3)\n",
    "driver.find_element_by_id(\"work\").click()\n",
    "\n",
    "# Click timesheets button\n",
    "element = driver.find_element_by_xpath(\"//a[@href='/timeslips']\").click()\n",
    "time.sleep(2)\n",
    "\n",
    "# Click \"Add weekly timesheet\" button\n",
    "element_week = driver.find_elements_by_xpath('//div[@class=\"fe-PageHeader-actionItem\"]')[1].click()\n",
    "\n",
    "#submit timesheets (assuming that the correct project has already been selected and that 8h have been entered for each day)\n",
    "element_submit = wait.until(EC.presence_of_element_located((By.XPATH, \"//input[@class='Button Button--large']\"))).click()\n",
    "\n",
    "time.sleep(2)\n",
    "\n",
    "driver.close()"
   ]
  }
 ],
 "metadata": {
  "kernelspec": {
   "display_name": "Python 3",
   "language": "python",
   "name": "python3"
  },
  "language_info": {
   "codemirror_mode": {
    "name": "ipython",
    "version": 3
   },
   "file_extension": ".py",
   "mimetype": "text/x-python",
   "name": "python",
   "nbconvert_exporter": "python",
   "pygments_lexer": "ipython3",
   "version": "3.7.4"
  }
 },
 "nbformat": 4,
 "nbformat_minor": 4
}
