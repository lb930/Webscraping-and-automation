{
 "cells": [
  {
   "cell_type": "markdown",
   "metadata": {},
   "source": [
    "## Animal Crossing New Horizons\n",
    "\n",
    "The script downloads villager names and images"
   ]
  },
  {
   "cell_type": "code",
   "execution_count": 27,
   "metadata": {},
   "outputs": [],
   "source": [
    "from selenium import webdriver\n",
    "import time\n",
    "import requests\n",
    "import pandas as pd"
   ]
  },
  {
   "cell_type": "code",
   "execution_count": 34,
   "metadata": {},
   "outputs": [],
   "source": [
    "driver = webdriver.Chrome(executable_path=r'C:\\Program Files\\chromedriver.exe')\n",
    "time.sleep(5)\n",
    "\n",
    "villager_name = []\n",
    "url = []\n",
    "\n",
    "# Considers the pagination\n",
    "for n in range(1, 17):\n",
    "\n",
    "    driver.get(\"https://villagerdb.com/villagers/page/\" + str(n) + \"?game=nh\")\n",
    "\n",
    "    # Find all villager names\n",
    "    names = driver.find_elements_by_xpath('//div//a//p')\n",
    "\n",
    "    # Get the name and download the image for each villager\n",
    "    for name in names:\n",
    "        villager_name.append(name.text)\n",
    "\n",
    "        # Finds the image and gets the download link\n",
    "        images = driver.find_element_by_xpath('//img[@alt=\"Picture of ' + name.text + '\"]')\n",
    "        image_link = images.get_attribute(\"src\")\n",
    "\n",
    "        # Downloads the image\n",
    "        myfile = requests.get(image_link)\n",
    "\n",
    "        with open(\"C:\\\\Users\\\\xyz\" + \"\\\\\" + name.text + \".png\", \"wb\") as f:\n",
    "            f.write(myfile.content)\n",
    "\n",
    "        # Returns each image URL\n",
    "        url.append(image_link) \n",
    "\n",
    "driver.close()"
   ]
  },
  {
   "cell_type": "code",
   "execution_count": 35,
   "metadata": {},
   "outputs": [],
   "source": [
    "df = pd.DataFrame({\"Villager\": villager_name, \"URL\": url})"
   ]
  }
 ],
 "metadata": {
  "kernelspec": {
   "display_name": "Python 3",
   "language": "python",
   "name": "python3"
  },
  "language_info": {
   "codemirror_mode": {
    "name": "ipython",
    "version": 3
   },
   "file_extension": ".py",
   "mimetype": "text/x-python",
   "name": "python",
   "nbconvert_exporter": "python",
   "pygments_lexer": "ipython3",
   "version": "3.7.4"
  }
 },
 "nbformat": 4,
 "nbformat_minor": 4
}
